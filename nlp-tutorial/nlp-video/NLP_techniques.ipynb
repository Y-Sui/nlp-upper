{
 "nbformat": 4,
 "nbformat_minor": 0,
 "metadata": {
  "colab": {
   "name": "NLP_techniques.ipynb",
   "provenance": []
  },
  "kernelspec": {
   "name": "python3",
   "display_name": "Python 3"
  }
 },
 "cells": [
  {
   "cell_type": "markdown",
   "metadata": {
    "id": "YKnnQUjAvdxw",
    "colab_type": "text",
    "pycharm": {
     "name": "#%% md\n"
    }
   },
   "source": [
    "# Setup\n",
    "\n"
   ]
  },
  {
   "cell_type": "markdown",
   "metadata": {
    "id": "u6kqIEqDvnLG",
    "colab_type": "text",
    "pycharm": {
     "name": "#%% md\n"
    }
   },
   "source": [
    "## Install necessary libraries & download models here"
   ]
  },
  {
   "cell_type": "code",
   "metadata": {
    "id": "HzVI4t6t8A6A",
    "colab_type": "code",
    "colab": {},
    "pycharm": {
     "name": "#%%\n"
    }
   },
   "source": [
    "!pip install spacy\n",
    "!python -m spacy download en_core_web_md"
   ],
   "execution_count": 1,
   "outputs": [
    {
     "name": "stderr",
     "output_type": "stream",
     "text": [
      "ERROR: Exception:\n",
      "Traceback (most recent call last):\n",
      "  File \"D:\\ProgramData\\Anaconda3\\envs\\torch\\lib\\site-packages\\pip\\_internal\\cli\\base_command.py\", line 173, in _main\n",
      "    status = self.run(options, args)\n",
      "  File \"D:\\ProgramData\\Anaconda3\\envs\\torch\\lib\\site-packages\\pip\\_internal\\cli\\req_command.py\", line 203, in wrapper\n",
      "    return func(self, options, args)\n",
      "  File \"D:\\ProgramData\\Anaconda3\\envs\\torch\\lib\\site-packages\\pip\\_internal\\commands\\install.py\", line 315, in run\n",
      "    requirement_set = resolver.resolve(\n",
      "  File \"D:\\ProgramData\\Anaconda3\\envs\\torch\\lib\\site-packages\\pip\\_internal\\resolution\\resolvelib\\resolver.py\", line 94, in resolve\n",
      "    result = self._result = resolver.resolve(\n",
      "  File \"D:\\ProgramData\\Anaconda3\\envs\\torch\\lib\\site-packages\\pip\\_vendor\\resolvelib\\resolvers.py\", line 472, in resolve\n",
      "    state = resolution.resolve(requirements, max_rounds=max_rounds)\n",
      "  File \"D:\\ProgramData\\Anaconda3\\envs\\torch\\lib\\site-packages\\pip\\_vendor\\resolvelib\\resolvers.py\", line 341, in resolve\n",
      "    self._add_to_criteria(self.state.criteria, r, parent=None)\n",
      "  File \"D:\\ProgramData\\Anaconda3\\envs\\torch\\lib\\site-packages\\pip\\_vendor\\resolvelib\\resolvers.py\", line 172, in _add_to_criteria\n",
      "    if not criterion.candidates:\n",
      "  File \"D:\\ProgramData\\Anaconda3\\envs\\torch\\lib\\site-packages\\pip\\_vendor\\resolvelib\\structs.py\", line 151, in __bool__\n",
      "    return bool(self._sequence)\n",
      "  File \"D:\\ProgramData\\Anaconda3\\envs\\torch\\lib\\site-packages\\pip\\_internal\\resolution\\resolvelib\\found_candidates.py\", line 140, in __bool__\n",
      "    return any(self)\n",
      "  File \"D:\\ProgramData\\Anaconda3\\envs\\torch\\lib\\site-packages\\pip\\_internal\\resolution\\resolvelib\\found_candidates.py\", line 128, in <genexpr>\n",
      "    return (c for c in iterator if id(c) not in self._incompatible_ids)\n",
      "  File \"D:\\ProgramData\\Anaconda3\\envs\\torch\\lib\\site-packages\\pip\\_internal\\resolution\\resolvelib\\found_candidates.py\", line 29, in _iter_built\n",
      "    for version, func in infos:\n",
      "  File \"D:\\ProgramData\\Anaconda3\\envs\\torch\\lib\\site-packages\\pip\\_internal\\resolution\\resolvelib\\factory.py\", line 272, in iter_index_candidate_infos\n",
      "    result = self._finder.find_best_candidate(\n",
      "  File \"D:\\ProgramData\\Anaconda3\\envs\\torch\\lib\\site-packages\\pip\\_internal\\index\\package_finder.py\", line 851, in find_best_candidate\n",
      "    candidates = self.find_all_candidates(project_name)\n",
      "  File \"D:\\ProgramData\\Anaconda3\\envs\\torch\\lib\\site-packages\\pip\\_internal\\index\\package_finder.py\", line 798, in find_all_candidates\n",
      "    page_candidates = list(page_candidates_it)\n",
      "  File \"D:\\ProgramData\\Anaconda3\\envs\\torch\\lib\\site-packages\\pip\\_internal\\index\\sources.py\", line 134, in page_candidates\n",
      "    yield from self._candidates_from_page(self._link)\n",
      "  File \"D:\\ProgramData\\Anaconda3\\envs\\torch\\lib\\site-packages\\pip\\_internal\\index\\package_finder.py\", line 758, in process_project_url\n",
      "    html_page = self._link_collector.fetch_page(project_url)\n",
      "  File \"D:\\ProgramData\\Anaconda3\\envs\\torch\\lib\\site-packages\\pip\\_internal\\index\\collector.py\", line 490, in fetch_page\n",
      "    return _get_html_page(location, session=self.session)\n",
      "  File \"D:\\ProgramData\\Anaconda3\\envs\\torch\\lib\\site-packages\\pip\\_internal\\index\\collector.py\", line 400, in _get_html_page\n",
      "    resp = _get_html_response(url, session=session)\n",
      "  File \"D:\\ProgramData\\Anaconda3\\envs\\torch\\lib\\site-packages\\pip\\_internal\\index\\collector.py\", line 115, in _get_html_response\n",
      "    resp = session.get(\n",
      "  File \"D:\\ProgramData\\Anaconda3\\envs\\torch\\lib\\site-packages\\pip\\_vendor\\requests\\sessions.py\", line 555, in get\n",
      "    return self.request('GET', url, **kwargs)\n",
      "  File \"D:\\ProgramData\\Anaconda3\\envs\\torch\\lib\\site-packages\\pip\\_internal\\network\\session.py\", line 454, in request\n",
      "    return super().request(method, url, *args, **kwargs)\n",
      "  File \"D:\\ProgramData\\Anaconda3\\envs\\torch\\lib\\site-packages\\pip\\_vendor\\requests\\sessions.py\", line 542, in request\n",
      "    resp = self.send(prep, **send_kwargs)\n",
      "  File \"D:\\ProgramData\\Anaconda3\\envs\\torch\\lib\\site-packages\\pip\\_vendor\\requests\\sessions.py\", line 655, in send\n",
      "    r = adapter.send(request, **kwargs)\n",
      "  File \"D:\\ProgramData\\Anaconda3\\envs\\torch\\lib\\site-packages\\pip\\_vendor\\cachecontrol\\adapter.py\", line 53, in send\n",
      "    resp = super(CacheControlAdapter, self).send(request, **kw)\n",
      "  File \"D:\\ProgramData\\Anaconda3\\envs\\torch\\lib\\site-packages\\pip\\_vendor\\requests\\adapters.py\", line 439, in send\n",
      "    resp = conn.urlopen(\n",
      "  File \"D:\\ProgramData\\Anaconda3\\envs\\torch\\lib\\site-packages\\pip\\_vendor\\urllib3\\connectionpool.py\", line 696, in urlopen\n",
      "    self._prepare_proxy(conn)\n",
      "  File \"D:\\ProgramData\\Anaconda3\\envs\\torch\\lib\\site-packages\\pip\\_vendor\\urllib3\\connectionpool.py\", line 964, in _prepare_proxy\n",
      "    conn.connect()\n",
      "  File \"D:\\ProgramData\\Anaconda3\\envs\\torch\\lib\\site-packages\\pip\\_vendor\\urllib3\\connection.py\", line 359, in connect\n",
      "    conn = self._connect_tls_proxy(hostname, conn)\n",
      "  File \"D:\\ProgramData\\Anaconda3\\envs\\torch\\lib\\site-packages\\pip\\_vendor\\urllib3\\connection.py\", line 500, in _connect_tls_proxy\n",
      "    return ssl_wrap_socket(\n",
      "  File \"D:\\ProgramData\\Anaconda3\\envs\\torch\\lib\\site-packages\\pip\\_vendor\\urllib3\\util\\ssl_.py\", line 453, in ssl_wrap_socket\n",
      "    ssl_sock = _ssl_wrap_socket_impl(sock, context, tls_in_tls)\n",
      "  File \"D:\\ProgramData\\Anaconda3\\envs\\torch\\lib\\site-packages\\pip\\_vendor\\urllib3\\util\\ssl_.py\", line 495, in _ssl_wrap_socket_impl\n",
      "    return ssl_context.wrap_socket(sock)\n",
      "  File \"D:\\ProgramData\\Anaconda3\\envs\\torch\\lib\\ssl.py\", line 500, in wrap_socket\n",
      "    return self.sslsocket_class._create(\n",
      "  File \"D:\\ProgramData\\Anaconda3\\envs\\torch\\lib\\ssl.py\", line 997, in _create\n",
      "    raise ValueError(\"check_hostname requires server_hostname\")\n",
      "ValueError: check_hostname requires server_hostname\n",
      "D:\\ProgramData\\Anaconda3\\envs\\torch\\python.exe: No module named spacy\n"
     ]
    }
   ]
  },
  {
   "cell_type": "markdown",
   "metadata": {
    "id": "Zp-Lj6gau4_3",
    "colab_type": "text",
    "pycharm": {
     "name": "#%% md\n"
    }
   },
   "source": [
    "# Bag of Words"
   ]
  },
  {
   "cell_type": "markdown",
   "metadata": {
    "id": "BcVtZIvrwGOH",
    "colab_type": "text",
    "pycharm": {
     "name": "#%% md\n"
    }
   },
   "source": [
    "#### Define some training utterances"
   ]
  },
  {
   "cell_type": "code",
   "metadata": {
    "id": "L0oRbLNvIAvA",
    "colab_type": "code",
    "colab": {},
    "pycharm": {
     "name": "#%%\n"
    }
   },
   "source": [
    "class Category:\n",
    "  BOOKS = \"BOOKS\"\n",
    "  CLOTHING = \"CLOTHING\"\n",
    "\n",
    "train_x = [\"i love the book\", \"this is a great book\", \"the fit is great\", \"i love the shoes\"]\n",
    "train_y = [Category.BOOKS, Category.BOOKS, Category.CLOTHING, Category.CLOTHING]"
   ],
   "execution_count": 2,
   "outputs": []
  },
  {
   "cell_type": "markdown",
   "metadata": {
    "id": "9t9KsKsgwKOk",
    "colab_type": "text",
    "pycharm": {
     "name": "#%% md\n"
    }
   },
   "source": [
    "#### Fit vectorizer to transform text to bag-of-words vectors"
   ]
  },
  {
   "cell_type": "code",
   "metadata": {
    "id": "6RC9pRSUJC5i",
    "colab_type": "code",
    "outputId": "9fe9b943-db32-49de-d874-a9fe28200e0c",
    "colab": {
     "base_uri": "https://localhost:8080/",
     "height": 104
    },
    "pycharm": {
     "name": "#%%\n"
    }
   },
   "source": [
    "from sklearn.feature_extraction.text import CountVectorizer\n",
    "\n",
    "vectorizer = CountVectorizer(binary=True)\n",
    "train_x_vectors = vectorizer.fit_transform(train_x)\n",
    "\n",
    "print(vectorizer.get_feature_names())\n",
    "print(train_x_vectors.toarray())"
   ],
   "execution_count": 3,
   "outputs": [
    {
     "name": "stdout",
     "output_type": "stream",
     "text": [
      "['book', 'fit', 'great', 'is', 'love', 'shoes', 'the', 'this']\n",
      "[[1 0 0 0 1 0 1 0]\n",
      " [1 0 1 1 0 0 0 1]\n",
      " [0 1 1 1 0 0 1 0]\n",
      " [0 0 0 0 1 1 1 0]]\n"
     ]
    },
    {
     "name": "stderr",
     "output_type": "stream",
     "text": [
      "D:\\ProgramData\\Anaconda3\\envs\\torch\\lib\\site-packages\\sklearn\\utils\\deprecation.py:87: FutureWarning: Function get_feature_names is deprecated; get_feature_names is deprecated in 1.0 and will be removed in 1.2. Please use get_feature_names_out instead.\n",
      "  warnings.warn(msg, category=FutureWarning)\n"
     ]
    }
   ]
  },
  {
   "cell_type": "markdown",
   "metadata": {
    "id": "bYEsm627wXeZ",
    "colab_type": "text",
    "pycharm": {
     "name": "#%% md\n"
    }
   },
   "source": [
    "#### Train SVM Model"
   ]
  },
  {
   "cell_type": "code",
   "metadata": {
    "id": "FIM5vQGEJ-Pj",
    "colab_type": "code",
    "outputId": "0001795d-b462-4b7d-d144-ad7e5567d489",
    "colab": {
     "base_uri": "https://localhost:8080/",
     "height": 85
    },
    "pycharm": {
     "name": "#%%\n"
    }
   },
   "source": [
    "from sklearn import svm\n",
    "\n",
    "clf_svm = svm.SVC(kernel='linear')\n",
    "clf_svm.fit(train_x_vectors, train_y)"
   ],
   "execution_count": 4,
   "outputs": [
    {
     "data": {
      "text/plain": "SVC(kernel='linear')"
     },
     "execution_count": 4,
     "metadata": {},
     "output_type": "execute_result"
    }
   ]
  },
  {
   "cell_type": "markdown",
   "metadata": {
    "id": "yCXYXFAiweT0",
    "colab_type": "text",
    "pycharm": {
     "name": "#%% md\n"
    }
   },
   "source": [
    "#### Test new utterances on trained model"
   ]
  },
  {
   "cell_type": "code",
   "metadata": {
    "id": "ZSzsYwWcLTyL",
    "colab_type": "code",
    "outputId": "ba26ed2b-ca75-47e9-a802-07dedccae9fa",
    "colab": {
     "base_uri": "https://localhost:8080/",
     "height": 34
    },
    "pycharm": {
     "name": "#%%\n"
    }
   },
   "source": [
    "test_x = vectorizer.transform(['i love the books'])\n",
    "\n",
    "clf_svm.predict(test_x)"
   ],
   "execution_count": 5,
   "outputs": [
    {
     "data": {
      "text/plain": "array(['CLOTHING'], dtype='<U8')"
     },
     "execution_count": 5,
     "metadata": {},
     "output_type": "execute_result"
    }
   ]
  },
  {
   "cell_type": "markdown",
   "metadata": {
    "id": "qppVzkfg50h0",
    "colab_type": "text",
    "pycharm": {
     "name": "#%% md\n"
    }
   },
   "source": [
    "# Word Vectors"
   ]
  },
  {
   "cell_type": "code",
   "metadata": {
    "id": "VQrh78G9Lg9v",
    "colab_type": "code",
    "colab": {},
    "pycharm": {
     "name": "#%%\n"
    }
   },
   "source": [
    "import spacy\n",
    "\n",
    "nlp = spacy.load(\"en_core_web_md\")"
   ],
   "execution_count": 6,
   "outputs": [
    {
     "ename": "ModuleNotFoundError",
     "evalue": "No module named 'spacy'",
     "output_type": "error",
     "traceback": [
      "\u001B[1;31m---------------------------------------------------------------------------\u001B[0m",
      "\u001B[1;31mModuleNotFoundError\u001B[0m                       Traceback (most recent call last)",
      "Input \u001B[1;32mIn [6]\u001B[0m, in \u001B[0;36m<cell line: 1>\u001B[1;34m()\u001B[0m\n\u001B[1;32m----> 1\u001B[0m \u001B[38;5;28;01mimport\u001B[39;00m \u001B[38;5;21;01mspacy\u001B[39;00m\n\u001B[0;32m      3\u001B[0m nlp \u001B[38;5;241m=\u001B[39m spacy\u001B[38;5;241m.\u001B[39mload(\u001B[38;5;124m\"\u001B[39m\u001B[38;5;124men_core_web_md\u001B[39m\u001B[38;5;124m\"\u001B[39m)\n",
      "\u001B[1;31mModuleNotFoundError\u001B[0m: No module named 'spacy'"
     ]
    }
   ]
  },
  {
   "cell_type": "code",
   "metadata": {
    "id": "7mNROcfz9cIH",
    "colab_type": "code",
    "outputId": "a495506c-61a6-45e7-a647-6d44c0539934",
    "colab": {
     "base_uri": "https://localhost:8080/",
     "height": 34
    },
    "pycharm": {
     "name": "#%%\n"
    }
   },
   "source": [
    "print(train_x)"
   ],
   "execution_count": null,
   "outputs": []
  },
  {
   "cell_type": "code",
   "metadata": {
    "id": "HUB0-JrC8e1t",
    "colab_type": "code",
    "colab": {},
    "pycharm": {
     "name": "#%%\n"
    }
   },
   "source": [
    "docs = [nlp(text) for text in train_x]\n",
    "train_x_word_vectors = [x.vector for x in docs]"
   ],
   "execution_count": null,
   "outputs": []
  },
  {
   "cell_type": "code",
   "metadata": {
    "id": "C7TtQLJ99lOX",
    "colab_type": "code",
    "outputId": "a96cde52-07f7-4fc6-861f-e8e3812a1e28",
    "colab": {
     "base_uri": "https://localhost:8080/",
     "height": 85
    },
    "pycharm": {
     "name": "#%%\n"
    }
   },
   "source": [
    "from sklearn import svm\n",
    "\n",
    "clf_svm_wv = svm.SVC(kernel='linear')\n",
    "clf_svm_wv.fit(train_x_word_vectors, train_y)"
   ],
   "execution_count": null,
   "outputs": []
  },
  {
   "cell_type": "code",
   "metadata": {
    "id": "mIwwl8Kb-JTK",
    "colab_type": "code",
    "outputId": "b0c58c75-8094-4b01-e713-c75260130854",
    "colab": {
     "base_uri": "https://localhost:8080/",
     "height": 34
    },
    "pycharm": {
     "name": "#%%\n"
    }
   },
   "source": [
    "test_x = [\"I went to the bank and wrote a check\", \"let me check that out\"]\n",
    "test_docs = [nlp(text) for text in test_x]\n",
    "test_x_word_vectors =  [x.vector for x in test_docs]\n",
    "\n",
    "clf_svm_wv.predict(test_x_word_vectors)"
   ],
   "execution_count": null,
   "outputs": []
  },
  {
   "cell_type": "markdown",
   "metadata": {
    "id": "hKZbojujr-DR",
    "colab_type": "text",
    "pycharm": {
     "name": "#%% md\n"
    }
   },
   "source": [
    "# Regexes"
   ]
  },
  {
   "cell_type": "code",
   "metadata": {
    "id": "hvuXSOZk-Wgb",
    "colab_type": "code",
    "outputId": "a7d8c451-2b16-467c-81c2-49d5dc5292df",
    "colab": {
     "base_uri": "https://localhost:8080/",
     "height": 34
    },
    "pycharm": {
     "name": "#%%\n"
    }
   },
   "source": [
    "import re\n",
    "\n",
    "regexp = re.compile(r\"\\bread\\b|\\bstory\\b|book\")\n",
    "\n",
    "phrases = [\"I liked that story.\", \"the car treaded up the hill\", \"this hat is nice\"]\n",
    "\n",
    "matches = []\n",
    "for phrase in phrases:\n",
    "  if re.search(regexp, phrase):\n",
    "    matches.append(phrase)\n",
    "\n",
    "print(matches)\n",
    "\n",
    "\n"
   ],
   "execution_count": null,
   "outputs": []
  },
  {
   "cell_type": "markdown",
   "metadata": {
    "id": "vZ4EG0eExl91",
    "colab_type": "text",
    "pycharm": {
     "name": "#%% md\n"
    }
   },
   "source": [
    "# Stemming/Lemmatization"
   ]
  },
  {
   "cell_type": "markdown",
   "metadata": {
    "id": "mPkvqDmvwr6S",
    "colab_type": "text",
    "pycharm": {
     "name": "#%% md\n"
    }
   },
   "source": [
    "### Setup"
   ]
  },
  {
   "cell_type": "code",
   "metadata": {
    "id": "M9b7aJBusD7D",
    "colab_type": "code",
    "outputId": "4816933c-ce43-4f28-c1b1-34e62f82120d",
    "colab": {
     "base_uri": "https://localhost:8080/",
     "height": 136
    },
    "pycharm": {
     "name": "#%%\n"
    }
   },
   "source": [
    "import nltk\n",
    "\n",
    "nltk.download('wordnet')\n",
    "nltk.download('stopwords')\n",
    "nltk.download('punkt')"
   ],
   "execution_count": null,
   "outputs": []
  },
  {
   "cell_type": "markdown",
   "metadata": {
    "id": "BxU1xCL1wvSs",
    "colab_type": "text",
    "pycharm": {
     "name": "#%% md\n"
    }
   },
   "source": [
    "### Stemming"
   ]
  },
  {
   "cell_type": "code",
   "metadata": {
    "id": "crYLVnZfx1ac",
    "colab_type": "code",
    "outputId": "32e7353a-b3e0-4d27-a9c1-22c8866cdfab",
    "colab": {
     "base_uri": "https://localhost:8080/",
     "height": 34
    },
    "pycharm": {
     "name": "#%%\n"
    }
   },
   "source": [
    "from nltk.tokenize import word_tokenize\n",
    "from nltk.stem import PorterStemmer\n",
    "\n",
    "stemmer = PorterStemmer()\n",
    "\n",
    "phrase = \"reading the books\"\n",
    "words = word_tokenize(phrase)\n",
    "\n",
    "stemmed_words = []\n",
    "for word in words:\n",
    "  stemmed_words.append(stemmer.stem(word))\n",
    "\n",
    "\" \".join(stemmed_words)"
   ],
   "execution_count": null,
   "outputs": []
  },
  {
   "cell_type": "markdown",
   "metadata": {
    "id": "JKSEr4AvwzD2",
    "colab_type": "text",
    "pycharm": {
     "name": "#%% md\n"
    }
   },
   "source": [
    "### Lemmatizing"
   ]
  },
  {
   "cell_type": "code",
   "metadata": {
    "id": "ByiZ5qsSyF2f",
    "colab_type": "code",
    "outputId": "f3e6b4e3-6188-4d04-9dc2-361d9aa770a7",
    "colab": {
     "base_uri": "https://localhost:8080/",
     "height": 34
    },
    "pycharm": {
     "name": "#%%\n"
    }
   },
   "source": [
    "from nltk.stem import WordNetLemmatizer\n",
    "\n",
    "lemmatizer = WordNetLemmatizer()\n",
    "\n",
    "phrase = \"reading the books\"\n",
    "words = word_tokenize(phrase)\n",
    "\n",
    "lemmatized_words = []\n",
    "for word in words:\n",
    "  lemmatized_words.append(lemmatizer.lemmatize(word, pos='v'))\n",
    "\n",
    "\" \".join(lemmatized_words)\n",
    "\n"
   ],
   "execution_count": null,
   "outputs": []
  },
  {
   "cell_type": "markdown",
   "metadata": {
    "id": "-ief7p3O5diZ",
    "colab_type": "text",
    "pycharm": {
     "name": "#%% md\n"
    }
   },
   "source": [
    "# Stopwords\n",
    "### Tokenize, then remove Stopwords"
   ]
  },
  {
   "cell_type": "code",
   "metadata": {
    "id": "qXU6xv5ly_mT",
    "colab_type": "code",
    "outputId": "18370176-14eb-468d-d83b-82996cc8e8dd",
    "colab": {
     "base_uri": "https://localhost:8080/",
     "height": 34
    },
    "pycharm": {
     "name": "#%%\n"
    }
   },
   "source": [
    "from nltk.tokenize import word_tokenize\n",
    "from nltk.corpus import stopwords\n",
    "\n",
    "stop_words = stopwords.words('english')\n",
    "\n",
    "phrase = \"Here is an example sentence demonstrating the removal of stopwords\"\n",
    "\n",
    "words = word_tokenize(phrase)\n",
    "\n",
    "stripped_phrase = []\n",
    "for word in words:\n",
    "  if word not in stop_words:\n",
    "    stripped_phrase.append(word)\n",
    "\n",
    "\" \".join(stripped_phrase)\n"
   ],
   "execution_count": null,
   "outputs": []
  },
  {
   "cell_type": "markdown",
   "metadata": {
    "id": "iO99N-Yu_Zki",
    "colab_type": "text",
    "pycharm": {
     "name": "#%% md\n"
    }
   },
   "source": [
    "# Various other techniques (spell correction, sentiment, & pos tagging)"
   ]
  },
  {
   "cell_type": "code",
   "metadata": {
    "id": "W8BHnKC-AipW",
    "colab_type": "code",
    "colab": {},
    "pycharm": {
     "name": "#%%\n"
    }
   },
   "source": [
    "!python -m textblob.download_corpora"
   ],
   "execution_count": null,
   "outputs": []
  },
  {
   "cell_type": "code",
   "metadata": {
    "id": "4ZgZHunm5s6s",
    "colab_type": "code",
    "outputId": "e0e6b762-ebf4-4536-f7c0-9babc14ee1ae",
    "colab": {
     "base_uri": "https://localhost:8080/",
     "height": 34
    },
    "pycharm": {
     "name": "#%%\n"
    }
   },
   "source": [
    "from textblob import TextBlob\n",
    "\n",
    "phrase = \"the book was horrible\"\n",
    "\n",
    "tb_phrase = TextBlob(phrase)\n",
    "\n",
    "tb_phrase.correct()\n",
    "\n",
    "tb_phrase.tags\n",
    "\n",
    "tb_phrase.sentiment"
   ],
   "execution_count": null,
   "outputs": []
  },
  {
   "cell_type": "markdown",
   "metadata": {
    "id": "Y3XJhTI6mVC5",
    "colab_type": "text",
    "pycharm": {
     "name": "#%% md\n"
    }
   },
   "source": [
    "## Transformer Architecture"
   ]
  },
  {
   "cell_type": "markdown",
   "metadata": {
    "id": "zQtiJN4BxKSm",
    "colab_type": "text",
    "pycharm": {
     "name": "#%% md\n"
    }
   },
   "source": [
    "### Setup"
   ]
  },
  {
   "cell_type": "code",
   "metadata": {
    "id": "6lx7Pmhe73V_",
    "colab_type": "code",
    "colab": {},
    "pycharm": {
     "name": "#%%\n"
    }
   },
   "source": [
    "!pip install spacy-transformers\n",
    "!python -m spacy download en_trf_bertbaseuncased_lg"
   ],
   "execution_count": null,
   "outputs": []
  },
  {
   "cell_type": "markdown",
   "metadata": {
    "id": "gMUuhTuKxNOv",
    "colab_type": "text",
    "pycharm": {
     "name": "#%% md\n"
    }
   },
   "source": [
    "### Using Spacy to utilize BERT Model"
   ]
  },
  {
   "cell_type": "code",
   "metadata": {
    "id": "yjWiFw94mhHY",
    "colab_type": "code",
    "colab": {},
    "pycharm": {
     "name": "#%%\n"
    }
   },
   "source": [
    "import spacy\n",
    "import torch\n",
    "\n",
    "nlp = spacy.load(\"en_trf_bertbaseuncased_lg\")\n",
    "doc = nlp(\"Here is some text to encode.\")"
   ],
   "execution_count": null,
   "outputs": []
  },
  {
   "cell_type": "code",
   "metadata": {
    "id": "G6W0cwMincC6",
    "colab_type": "code",
    "colab": {},
    "pycharm": {
     "name": "#%%\n"
    }
   },
   "source": [
    "class Category:\n",
    "  BOOKS = \"BOOKS\"\n",
    "  BANK = \"BANK\"\n",
    "\n",
    "train_x = [\"good characters and plot progression\", \"check out the book\", \"good story. would recommend\", \"novel recommendation\", \"need to make a deposit to the bank\", \"balance inquiry savings\", \"save money\"]\n",
    "train_y = [Category.BOOKS, Category.BOOKS, Category.BOOKS, Category.BOOKS, Category.BANK, Category.BANK, Category.BANK]"
   ],
   "execution_count": null,
   "outputs": []
  },
  {
   "cell_type": "code",
   "metadata": {
    "id": "LjckR6NBn4fo",
    "colab_type": "code",
    "outputId": "a61c3d13-99e5-4d05-8afb-e1601fab7393",
    "colab": {
     "base_uri": "https://localhost:8080/",
     "height": 34
    },
    "pycharm": {
     "name": "#%%\n"
    }
   },
   "source": [
    "from sklearn import svm\n",
    "\n",
    "docs = [nlp(text) for text in train_x]\n",
    "train_x_vectors = [doc.vector for doc in docs]\n",
    "clf_svm = svm.SVC(kernel='linear')\n",
    "\n",
    "clf_svm.fit(train_x_vectors, train_y)\n",
    "\n",
    "test_x = [\"check this story out\"]\n",
    "docs = [nlp(text) for text in test_x]\n",
    "test_x_vectors = [doc.vector for doc in docs]\n",
    "\n",
    "clf_svm.predict(test_x_vectors)"
   ],
   "execution_count": null,
   "outputs": []
  }
 ]
}