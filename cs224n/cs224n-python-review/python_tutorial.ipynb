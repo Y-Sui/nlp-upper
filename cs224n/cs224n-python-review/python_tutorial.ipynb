{
 "cells": [
  {
   "cell_type": "markdown",
   "id": "733f8cec",
   "metadata": {
    "pycharm": {
     "name": "#%% md\n"
    }
   },
   "source": [
    "# Python Tutorial"
   ]
  },
  {
   "cell_type": "markdown",
   "id": "347cd487",
   "metadata": {
    "pycharm": {
     "name": "#%% md\n"
    }
   },
   "source": [
    "## Collections"
   ]
  },
  {
   "cell_type": "markdown",
   "id": "e691f94d",
   "metadata": {
    "pycharm": {
     "name": "#%% md\n"
    }
   },
   "source": [
    "Python has several built-in types that are useful for storing and manipulating data: list, tuple, dict. Here is the official Python documentation on these types (and many others): https://docs.python.org/3/library/stdtypes.html."
   ]
  },
  {
   "cell_type": "markdown",
   "id": "635401d7",
   "metadata": {
    "pycharm": {
     "name": "#%% md\n"
    }
   },
   "source": [
    "### Lists"
   ]
  },
  {
   "cell_type": "markdown",
   "id": "ce42dfd9",
   "metadata": {
    "pycharm": {
     "name": "#%% md\n"
    }
   },
   "source": [
    "Lists are mutable arrays. Let's see how they work."
   ]
  },
  {
   "cell_type": "code",
   "execution_count": 67,
   "id": "3f24605e",
   "metadata": {
    "pycharm": {
     "name": "#%%\n"
    }
   },
   "outputs": [],
   "source": [
    "names = [\"Zach\", \"Jay\"]"
   ]
  },
  {
   "cell_type": "code",
   "execution_count": 68,
   "id": "ae2fb323",
   "metadata": {
    "pycharm": {
     "name": "#%%\n"
    }
   },
   "outputs": [
    {
     "name": "stdout",
     "output_type": "stream",
     "text": [
      "Zach\n"
     ]
    }
   ],
   "source": [
    "# Index into list by index\n",
    "print(names[0])"
   ]
  },
  {
   "cell_type": "code",
   "execution_count": 69,
   "id": "64066853",
   "metadata": {
    "pycharm": {
     "name": "#%%\n"
    }
   },
   "outputs": [
    {
     "name": "stdout",
     "output_type": "stream",
     "text": [
      "['Zach', 'Jay', 'Richard']\n"
     ]
    }
   ],
   "source": [
    "# Append to list (appends to end of list)\n",
    "names.append(\"Richard\")\n",
    "print(names)"
   ]
  },
  {
   "cell_type": "code",
   "execution_count": 70,
   "id": "357799cc",
   "metadata": {
    "pycharm": {
     "name": "#%%\n"
    }
   },
   "outputs": [
    {
     "name": "stdout",
     "output_type": "stream",
     "text": [
      "3\n"
     ]
    }
   ],
   "source": [
    "# Get length of list\n",
    "print(len(names))"
   ]
  },
  {
   "cell_type": "code",
   "execution_count": 71,
   "id": "8977adcf",
   "metadata": {
    "pycharm": {
     "name": "#%%\n"
    }
   },
   "outputs": [
    {
     "name": "stdout",
     "output_type": "stream",
     "text": [
      "['Zach', 'Jay', 'Richard', 'Abi', 'Kevin']\n"
     ]
    }
   ],
   "source": [
    "# Concatenate two lists\n",
    "# += operator is a short hand for list1 = list1 + list2 (can also be used for -, *, / and on other types of variables)\n",
    "names += [\"Abi\", \"Kevin\"]\n",
    "print(names)"
   ]
  },
  {
   "cell_type": "code",
   "execution_count": 72,
   "id": "57c178a7",
   "metadata": {
    "pycharm": {
     "name": "#%%\n"
    }
   },
   "outputs": [],
   "source": [
    "# Two ways to create an empty list\n",
    "more_names = []\n",
    "more_names = list()"
   ]
  },
  {
   "cell_type": "code",
   "execution_count": 73,
   "id": "7913fce7",
   "metadata": {
    "scrolled": true,
    "pycharm": {
     "name": "#%%\n"
    }
   },
   "outputs": [
    {
     "name": "stdout",
     "output_type": "stream",
     "text": [
      "[1, ['hi', 'bye'], -0.12, None]\n"
     ]
    }
   ],
   "source": [
    "# Create a list that contains different data types, this is allowed in Python\n",
    "stuff = [1, [\"hi\", \"bye\"], -0.12, None]\n",
    "print(stuff)"
   ]
  },
  {
   "cell_type": "markdown",
   "id": "68682c20",
   "metadata": {
    "pycharm": {
     "name": "#%% md\n"
    }
   },
   "source": [
    "List slicing is a useful way to access a slice of elements in a list."
   ]
  },
  {
   "cell_type": "code",
   "execution_count": 74,
   "id": "8fc049ef",
   "metadata": {
    "pycharm": {
     "name": "#%%\n"
    }
   },
   "outputs": [
    {
     "name": "stdout",
     "output_type": "stream",
     "text": [
      "[0, 1, 2]\n"
     ]
    }
   ],
   "source": [
    "numbers = [0, 1, 2, 3, 4, 5, 6]\n",
    "\n",
    "# Slices from start index (inclusive) to end index (exclusive)\n",
    "print(numbers[0:3])"
   ]
  },
  {
   "cell_type": "code",
   "execution_count": 75,
   "id": "3e34a509",
   "metadata": {
    "pycharm": {
     "name": "#%%\n"
    }
   },
   "outputs": [
    {
     "name": "stdout",
     "output_type": "stream",
     "text": [
      "[0, 1, 2]\n",
      "[5, 6]\n"
     ]
    }
   ],
   "source": [
    "# When start index is not specified, it is start of list\n",
    "# When end index is not specified, it is end of list\n",
    "print(numbers[:3])\n",
    "print(numbers[5:])"
   ]
  },
  {
   "cell_type": "code",
   "execution_count": 76,
   "id": "813da35a",
   "metadata": {
    "pycharm": {
     "name": "#%%\n"
    }
   },
   "outputs": [
    {
     "name": "stdout",
     "output_type": "stream",
     "text": [
      "[0, 1, 2, 3, 4, 5, 6]\n"
     ]
    }
   ],
   "source": [
    "# : takes the slice of all elements along a dimension, is very useful when working with numpy arrays\n",
    "print(numbers[:])"
   ]
  },
  {
   "cell_type": "code",
   "execution_count": 77,
   "id": "eaa197af",
   "metadata": {
    "pycharm": {
     "name": "#%%\n"
    }
   },
   "outputs": [
    {
     "name": "stdout",
     "output_type": "stream",
     "text": [
      "6\n",
      "[4, 5, 6]\n",
      "[3, 4]\n"
     ]
    }
   ],
   "source": [
    "# Negative index wraps around, start counting from the end of list\n",
    "print(numbers[-1])\n",
    "print(numbers[-3:])\n",
    "print(numbers[3:-2])"
   ]
  },
  {
   "cell_type": "markdown",
   "id": "22371049",
   "metadata": {
    "pycharm": {
     "name": "#%% md\n"
    }
   },
   "source": [
    "### Tuples"
   ]
  },
  {
   "cell_type": "markdown",
   "id": "bfca6098",
   "metadata": {
    "pycharm": {
     "name": "#%% md\n"
    }
   },
   "source": [
    "Tuples are immutable arrays. Let's see how they work."
   ]
  },
  {
   "cell_type": "code",
   "execution_count": 78,
   "id": "b542e470",
   "metadata": {
    "pycharm": {
     "name": "#%%\n"
    }
   },
   "outputs": [],
   "source": [
    "# Use parentheses for tuples, square brackets for lists\n",
    "names = (\"Zach\", \"Jay\")"
   ]
  },
  {
   "cell_type": "code",
   "execution_count": 79,
   "id": "3906a033",
   "metadata": {
    "pycharm": {
     "name": "#%%\n"
    }
   },
   "outputs": [
    {
     "name": "stdout",
     "output_type": "stream",
     "text": [
      "Zach\n",
      "2\n"
     ]
    }
   ],
   "source": [
    "# Syntax for accessing an element and getting length are the same as lists\n",
    "print(names[0])\n",
    "print(len(names))"
   ]
  },
  {
   "cell_type": "code",
   "execution_count": 80,
   "id": "8799a4c5",
   "metadata": {
    "pycharm": {
     "name": "#%%\n"
    }
   },
   "outputs": [],
   "source": [
    "# But unlike lists, tuples do not support item re-assignment\n",
    "# names[0] = \"Richard\""
   ]
  },
  {
   "cell_type": "code",
   "execution_count": 81,
   "id": "9918ac4b",
   "metadata": {
    "pycharm": {
     "name": "#%%\n"
    }
   },
   "outputs": [
    {
     "name": "stdout",
     "output_type": "stream",
     "text": [
      "()\n",
      "(10,)\n"
     ]
    }
   ],
   "source": [
    "# Create an empty tuple\n",
    "empty = tuple()\n",
    "print(empty)\n",
    "\n",
    "# Create a tuple with a single item, the comma is important\n",
    "single = (10,)\n",
    "print(single)"
   ]
  },
  {
   "cell_type": "markdown",
   "id": "00800704",
   "metadata": {
    "pycharm": {
     "name": "#%% md\n"
    }
   },
   "source": [
    "## Dictionary"
   ]
  },
  {
   "cell_type": "markdown",
   "id": "8111c6c3",
   "metadata": {
    "pycharm": {
     "name": "#%% md\n"
    }
   },
   "source": [
    "Dictionaries are hash maps. Let's see how they work."
   ]
  },
  {
   "cell_type": "code",
   "execution_count": 82,
   "id": "646bda2f",
   "metadata": {
    "pycharm": {
     "name": "#%%\n"
    }
   },
   "outputs": [],
   "source": [
    "# Two ways to create an empty dictionary\n",
    "phonebook = {}\n",
    "phonebook = dict()"
   ]
  },
  {
   "cell_type": "code",
   "execution_count": 83,
   "id": "65c67196",
   "metadata": {
    "pycharm": {
     "name": "#%%\n"
    }
   },
   "outputs": [],
   "source": [
    "# Create dictionary with one item \n",
    "phonebook = {\"Zach\": \"12-37\"}\n",
    "# Add another item\n",
    "phonebook[\"Jay\"] = \"34-23\""
   ]
  },
  {
   "cell_type": "code",
   "execution_count": 84,
   "id": "1bc431d9",
   "metadata": {
    "pycharm": {
     "name": "#%%\n"
    }
   },
   "outputs": [
    {
     "name": "stdout",
     "output_type": "stream",
     "text": [
      "True\n",
      "False\n"
     ]
    }
   ],
   "source": [
    "# Check if a key is in the dictionary\n",
    "print(\"Zach\" in phonebook)\n",
    "print(\"Kevin\" in phonebook)"
   ]
  },
  {
   "cell_type": "code",
   "execution_count": 85,
   "id": "87018123",
   "metadata": {
    "pycharm": {
     "name": "#%%\n"
    }
   },
   "outputs": [
    {
     "name": "stdout",
     "output_type": "stream",
     "text": [
      "34-23\n"
     ]
    }
   ],
   "source": [
    "# Get corresponding value for a key\n",
    "print(phonebook[\"Jay\"])"
   ]
  },
  {
   "cell_type": "code",
   "execution_count": 86,
   "id": "18555a3a",
   "metadata": {
    "pycharm": {
     "name": "#%%\n"
    }
   },
   "outputs": [
    {
     "name": "stdout",
     "output_type": "stream",
     "text": [
      "{'Jay': '34-23'}\n"
     ]
    }
   ],
   "source": [
    "# Delete an item\n",
    "del phonebook[\"Zach\"]\n",
    "print(phonebook)"
   ]
  },
  {
   "cell_type": "markdown",
   "id": "60aceb86",
   "metadata": {
    "pycharm": {
     "name": "#%% md\n"
    }
   },
   "source": [
    "## Loops"
   ]
  },
  {
   "cell_type": "code",
   "execution_count": 87,
   "id": "f7189f9d",
   "metadata": {
    "pycharm": {
     "name": "#%%\n"
    }
   },
   "outputs": [
    {
     "name": "stdout",
     "output_type": "stream",
     "text": [
      "0\n",
      "1\n",
      "2\n",
      "3\n",
      "4\n"
     ]
    }
   ],
   "source": [
    "# Basic for loop\n",
    "for i in range(5):\n",
    "    print(i)"
   ]
  },
  {
   "cell_type": "code",
   "execution_count": 88,
   "id": "10ae15db",
   "metadata": {
    "pycharm": {
     "name": "#%%\n"
    }
   },
   "outputs": [
    {
     "name": "stdout",
     "output_type": "stream",
     "text": [
      "Zach\n",
      "Jay\n",
      "Richard\n"
     ]
    }
   ],
   "source": [
    "# To iterate over a list\n",
    "names = [\"Zach\", \"Jay\", \"Richard\"]\n",
    "for name in names:\n",
    "    print(name)"
   ]
  },
  {
   "cell_type": "code",
   "execution_count": 89,
   "id": "00d5035b",
   "metadata": {
    "pycharm": {
     "name": "#%%\n"
    }
   },
   "outputs": [
    {
     "name": "stdout",
     "output_type": "stream",
     "text": [
      "0 Zach\n",
      "1 Jay\n",
      "2 Richard\n",
      "---\n",
      "0 Zach\n",
      "1 Jay\n",
      "2 Richard\n"
     ]
    }
   ],
   "source": [
    "# To iterate over indices and values in a list\n",
    "# Way 1\n",
    "for i in range(len(names)):\n",
    "    print(i, names[i])\n",
    "    \n",
    "print(\"---\")\n",
    "\n",
    "# Way 2\n",
    "for i, name in enumerate(names):\n",
    "    print(i, name)"
   ]
  },
  {
   "cell_type": "code",
   "execution_count": 90,
   "id": "f18b7ce6",
   "metadata": {
    "pycharm": {
     "name": "#%%\n"
    }
   },
   "outputs": [
    {
     "name": "stdout",
     "output_type": "stream",
     "text": [
      "Zach\n",
      "Jay\n",
      "---\n",
      "12-37\n",
      "34-23\n",
      "---\n",
      "Zach 12-37\n",
      "Jay 34-23\n"
     ]
    }
   ],
   "source": [
    "# To iterate over a dictionary\n",
    "phonebook = {\"Zach\": \"12-37\", \"Jay\": \"34-23\"}\n",
    "\n",
    "# Iterate over keys\n",
    "for name in phonebook:\n",
    "    print(name)\n",
    "\n",
    "print(\"---\")\n",
    "\n",
    "# Iterate over values\n",
    "for number in phonebook.values():\n",
    "    print(number)\n",
    "\n",
    "print(\"---\")\n",
    "\n",
    "# Iterate over keys and values\n",
    "for name, number in phonebook.items():\n",
    "    print(name, number)"
   ]
  },
  {
   "cell_type": "markdown",
   "id": "e9661ef4",
   "metadata": {
    "pycharm": {
     "name": "#%% md\n"
    }
   },
   "source": [
    "## NumPy\n",
    "NumPy is a Python library, which adds support for large, multi-dimensional arrays and matrices, along with a large collection of optimized, high-level mathematical functions to operate on these arrays."
   ]
  },
  {
   "cell_type": "markdown",
   "id": "ecdb0df8",
   "metadata": {
    "pycharm": {
     "name": "#%% md\n"
    }
   },
   "source": [
    "You may need to install numpy first before importing it in the next cell. \n",
    "\n",
    "There are many ways to manage your packages, but the workflow we suggest for this class is to use Anaconda.\n",
    " - Download Anaconda. Create a conda environment when you work on a new project.\n",
    " - Activate your conda environment and install libraries using conda or pip if they are not available in conda.\n",
    " - If you are running scripts on command line, run inside your conda environment.\n",
    " - If you are using a Jupyter notebook, add your conda environment to your Jupyter notebook: https://towardsdatascience.com/get-your-conda-environment-to-show-in-jupyter-notebooks-the-easy-way-17010b76e874. Create your Jupyter notebook and verify you're in your conda environment kernel (top right of notebook should display the name). If you're not, go to the Kernel tab on the top left and click Change kernel to change to your conda environment kernel."
   ]
  },
  {
   "cell_type": "code",
   "execution_count": 91,
   "id": "ab7d3f32",
   "metadata": {
    "pycharm": {
     "name": "#%%\n"
    }
   },
   "outputs": [],
   "source": [
    "# Import numpy\n",
    "import numpy as np"
   ]
  },
  {
   "cell_type": "code",
   "execution_count": 92,
   "id": "6596eb30",
   "metadata": {
    "scrolled": false,
    "pycharm": {
     "name": "#%%\n"
    }
   },
   "outputs": [
    {
     "name": "stdout",
     "output_type": "stream",
     "text": [
      "(3,)\n",
      "(1, 3)\n",
      "(2, 2)\n"
     ]
    }
   ],
   "source": [
    "# Create numpy arrays from lists\n",
    "x = np.array([1,2,3]) \n",
    "y = np.array([[3,4,5]]) \n",
    "z = np.array([[6,7],[8,9]])\n",
    "\n",
    "# Let's take a look at their shapes.\n",
    "# When working with numpy arrays, .shape will be a very useful debugging tool \n",
    "print(x.shape)\n",
    "print(y.shape)\n",
    "print(z.shape)"
   ]
  },
  {
   "cell_type": "markdown",
   "id": "f4b465bf",
   "metadata": {
    "pycharm": {
     "name": "#%% md\n"
    }
   },
   "source": [
    "Vectors can be represented as 1-D arrays of shape (N,) or 2-D arrays of shape (N, 1) or (1, N). But it's important to note that the shapes (N,), (N, 1), and (1,N) are not the same and may result in different behavior (we'll see some examples below involving matrix multiplication and broadcasting).\n",
    "\n",
    "Matrices are generally represented as 2-D arrays of shape (M, N).\n",
    "\n",
    "The best way to ensure your code gives you the behavior you expect is to keep track of your array shapes and try out small test cases or refer back to documentation when you are unsure."
   ]
  },
  {
   "cell_type": "markdown",
   "id": "bcb3f37c",
   "metadata": {
    "pycharm": {
     "name": "#%% md\n"
    }
   },
   "source": [
    "### Array Operations"
   ]
  },
  {
   "cell_type": "markdown",
   "id": "18a8a694",
   "metadata": {
    "pycharm": {
     "name": "#%% md\n"
    }
   },
   "source": [
    "There are many NumPy operations that can be used to reduce a numpy array along an axis.\n",
    "\n",
    "Let's look at the np.max operation (documentation: https://numpy.org/doc/stable/reference/generated/numpy.ndarray.max.html)."
   ]
  },
  {
   "cell_type": "code",
   "execution_count": 93,
   "id": "1fcf4220",
   "metadata": {
    "pycharm": {
     "name": "#%%\n"
    }
   },
   "outputs": [],
   "source": [
    "x = np.array([[1,2],[3,4], [5, 6]]) "
   ]
  },
  {
   "cell_type": "code",
   "execution_count": 94,
   "id": "df82f62e",
   "metadata": {
    "pycharm": {
     "name": "#%%\n"
    }
   },
   "outputs": [
    {
     "name": "stdout",
     "output_type": "stream",
     "text": [
      "[2 4 6]\n"
     ]
    }
   ],
   "source": [
    "print(np.max(x, axis = 1))"
   ]
  },
  {
   "cell_type": "code",
   "execution_count": 95,
   "id": "0e888b74",
   "metadata": {
    "pycharm": {
     "name": "#%%\n"
    }
   },
   "outputs": [
    {
     "name": "stdout",
     "output_type": "stream",
     "text": [
      "[[2]\n",
      " [4]\n",
      " [6]]\n"
     ]
    }
   ],
   "source": [
    "print(np.max(x, axis = 1, keepdims = True))"
   ]
  },
  {
   "cell_type": "markdown",
   "id": "29ff27ec",
   "metadata": {
    "pycharm": {
     "name": "#%% md\n"
    }
   },
   "source": [
    "Next, let's look at some matrix operations. Let's take an element-wise product (Hadamard product)."
   ]
  },
  {
   "cell_type": "code",
   "execution_count": 96,
   "id": "25aeb52d",
   "metadata": {
    "pycharm": {
     "name": "#%%\n"
    }
   },
   "outputs": [
    {
     "name": "stdout",
     "output_type": "stream",
     "text": [
      "[[1 2]\n",
      " [3 4]]\n",
      "[[3 3]\n",
      " [3 3]]\n",
      "---\n",
      "[[ 3  6]\n",
      " [ 9 12]]\n"
     ]
    }
   ],
   "source": [
    "A = np.array([[1, 2], [3, 4]])\n",
    "B = np.array([[3, 3], [3, 3]])\n",
    "print(A)\n",
    "print(B)\n",
    "print(\"---\")\n",
    "print(A * B)"
   ]
  },
  {
   "cell_type": "markdown",
   "id": "689f2a8d",
   "metadata": {
    "pycharm": {
     "name": "#%% md\n"
    }
   },
   "source": [
    "We can do matrix multiplication with np.matmul or @."
   ]
  },
  {
   "cell_type": "code",
   "execution_count": 97,
   "id": "c76ec303",
   "metadata": {
    "pycharm": {
     "name": "#%%\n"
    }
   },
   "outputs": [
    {
     "name": "stdout",
     "output_type": "stream",
     "text": [
      "[[ 9  9]\n",
      " [21 21]]\n",
      "[[ 9  9]\n",
      " [21 21]]\n"
     ]
    }
   ],
   "source": [
    "# One way to do matrix multiplication\n",
    "print(np.matmul(A, B))\n",
    "\n",
    "# Another way to do matrix multiplication\n",
    "print(A @ B)"
   ]
  },
  {
   "cell_type": "markdown",
   "id": "62696957",
   "metadata": {
    "pycharm": {
     "name": "#%% md\n"
    }
   },
   "source": [
    "We can take the dot product or a matrix vector product with np.dot. "
   ]
  },
  {
   "cell_type": "code",
   "execution_count": 98,
   "id": "0caf84b9",
   "metadata": {
    "pycharm": {
     "name": "#%%\n"
    }
   },
   "outputs": [
    {
     "name": "stdout",
     "output_type": "stream",
     "text": [
      "321\n",
      "321\n"
     ]
    }
   ],
   "source": [
    "u = np.array([1, 2, 3])\n",
    "v = np.array([1, 10, 100])\n",
    "\n",
    "print(np.dot(u, v))\n",
    "\n",
    "# Can also call numpy operations on the numpy array, useful for chaining together multiple operations\n",
    "print(u.dot(v))"
   ]
  },
  {
   "cell_type": "code",
   "execution_count": 99,
   "id": "43e635bb",
   "metadata": {
    "pycharm": {
     "name": "#%%\n"
    }
   },
   "outputs": [
    {
     "name": "stdout",
     "output_type": "stream",
     "text": [
      "(3,)\n",
      "(3, 2)\n",
      "[531 642]\n",
      "(2,)\n"
     ]
    }
   ],
   "source": [
    "W = np.array([[1, 2], [3, 4], [5, 6]])\n",
    "print(v.shape)\n",
    "print(W.shape)\n",
    "\n",
    "# This works.\n",
    "print(np.dot(v, W))\n",
    "print(np.dot(v, W).shape)"
   ]
  },
  {
   "cell_type": "code",
   "execution_count": 100,
   "id": "683dd6ee",
   "metadata": {
    "pycharm": {
     "name": "#%%\n"
    }
   },
   "outputs": [],
   "source": [
    "# This does not. Why?\n",
    "# print(np.dot(W, v))"
   ]
  },
  {
   "cell_type": "code",
   "execution_count": 101,
   "id": "9e8b2184",
   "metadata": {
    "pycharm": {
     "name": "#%%\n"
    }
   },
   "outputs": [
    {
     "name": "stdout",
     "output_type": "stream",
     "text": [
      "[531 642]\n",
      "(2,)\n"
     ]
    }
   ],
   "source": [
    "# We can fix the above issue by transposing W.\n",
    "print(np.dot(W.T, v))\n",
    "print(np.dot(W.T, v).shape)"
   ]
  },
  {
   "cell_type": "markdown",
   "id": "c13199d8",
   "metadata": {
    "pycharm": {
     "name": "#%% md\n"
    }
   },
   "source": [
    "###  Indexing"
   ]
  },
  {
   "cell_type": "markdown",
   "id": "d3d3d5c2",
   "metadata": {
    "pycharm": {
     "name": "#%% md\n"
    }
   },
   "source": [
    "Slicing / indexing numpy arrays is a extension of the Python concept of slicing (lists) to N dimensions."
   ]
  },
  {
   "cell_type": "code",
   "execution_count": 102,
   "id": "bb930e29",
   "metadata": {
    "scrolled": true,
    "pycharm": {
     "name": "#%%\n"
    }
   },
   "outputs": [
    {
     "name": "stdout",
     "output_type": "stream",
     "text": [
      "[[7.04488260e-01 1.06170651e-01 4.48726565e-01 2.54720219e-04]\n",
      " [6.82371001e-01 2.18118276e-01 8.96240178e-02 2.15875680e-01]\n",
      " [7.15410373e-01 4.76770196e-01 7.65808798e-01 6.28204294e-02]]\n"
     ]
    }
   ],
   "source": [
    "x = np.random.random((3, 4))\n",
    "\n",
    "# Selects all of x\n",
    "print(x[:])"
   ]
  },
  {
   "cell_type": "code",
   "execution_count": 103,
   "id": "16d0fe9a",
   "metadata": {
    "pycharm": {
     "name": "#%%\n"
    }
   },
   "outputs": [
    {
     "name": "stdout",
     "output_type": "stream",
     "text": [
      "[[7.04488260e-01 1.06170651e-01 4.48726565e-01 2.54720219e-04]\n",
      " [7.15410373e-01 4.76770196e-01 7.65808798e-01 6.28204294e-02]]\n",
      "---\n",
      "[0.21811828 0.08962402]\n"
     ]
    }
   ],
   "source": [
    "# Selects the 0th and 2nd rows \n",
    "print(x[np.array([0, 2]), :])\n",
    "\n",
    "print(\"---\")\n",
    "\n",
    "# Selects 1st row as 1-D vector and and 1st through 2nd elements\n",
    "print(x[1, 1:3])"
   ]
  },
  {
   "cell_type": "code",
   "execution_count": 104,
   "id": "04bf1911",
   "metadata": {
    "pycharm": {
     "name": "#%%\n"
    }
   },
   "outputs": [
    {
     "name": "stdout",
     "output_type": "stream",
     "text": [
      "[0.70448826 0.682371   0.71541037 0.7658088 ]\n"
     ]
    }
   ],
   "source": [
    "# Boolean indexing\n",
    "print(x[x > 0.5])"
   ]
  },
  {
   "cell_type": "code",
   "execution_count": 105,
   "id": "118924a3",
   "metadata": {
    "pycharm": {
     "name": "#%%\n"
    }
   },
   "outputs": [
    {
     "name": "stdout",
     "output_type": "stream",
     "text": [
      "[[[7.04488260e-01]\n",
      "  [1.06170651e-01]\n",
      "  [4.48726565e-01]\n",
      "  [2.54720219e-04]]\n",
      "\n",
      " [[6.82371001e-01]\n",
      "  [2.18118276e-01]\n",
      "  [8.96240178e-02]\n",
      "  [2.15875680e-01]]\n",
      "\n",
      " [[7.15410373e-01]\n",
      "  [4.76770196e-01]\n",
      "  [7.65808798e-01]\n",
      "  [6.28204294e-02]]]\n"
     ]
    }
   ],
   "source": [
    "# 3-D vector of shape (3, 4, 1)\n",
    "print(x[:, :, np.newaxis])"
   ]
  },
  {
   "cell_type": "markdown",
   "id": "48e1704f",
   "metadata": {
    "pycharm": {
     "name": "#%% md\n"
    }
   },
   "source": [
    "### Broadcasting"
   ]
  },
  {
   "cell_type": "markdown",
   "id": "40d35521",
   "metadata": {
    "pycharm": {
     "name": "#%% md\n"
    }
   },
   "source": [
    "The term broadcasting describes how NumPy treats arrays with different shapes during arithmetic operations.\n",
    "\n",
    "**General Broadcasting Rules**\n",
    "\n",
    "When operating on two arrays, NumPy compares their shapes element-wise. It starts with the trailing (i.e. rightmost) dimensions and works its way left. Two dimensions are compatible when:\n",
    "- they are equal, or\n",
    "- one of them is 1 (in which case, elements on the axis are repeated along the dimension)\n",
    "\n",
    "More details: https://numpy.org/doc/stable/user/basics.broadcasting.html"
   ]
  },
  {
   "cell_type": "code",
   "execution_count": 106,
   "id": "e3f0c8b1",
   "metadata": {
    "pycharm": {
     "name": "#%%\n"
    }
   },
   "outputs": [],
   "source": [
    "x = np.random.random((3, 4))\n",
    "y = np.random.random((3, 1))\n",
    "z = np.random.random((1, 4))\n",
    "\n",
    "# In this example, y and z are broadcasted to match the shape of x. \n",
    "# y is broadcasted along dim 1.\n",
    "s = x + y\n",
    "# z is broadcasted along dim 0.\n",
    "p = x * z"
   ]
  },
  {
   "cell_type": "code",
   "execution_count": 107,
   "id": "93cdfc8a",
   "metadata": {
    "pycharm": {
     "name": "#%%\n"
    }
   },
   "outputs": [
    {
     "name": "stdout",
     "output_type": "stream",
     "text": [
      "(3, 4)\n",
      "(3, 1)\n",
      "(3, 4)\n"
     ]
    }
   ],
   "source": [
    "print(x.shape)\n",
    "print(y.shape)\n",
    "print(s.shape)"
   ]
  },
  {
   "cell_type": "code",
   "execution_count": 108,
   "id": "a77b76bc",
   "metadata": {
    "pycharm": {
     "name": "#%%\n"
    }
   },
   "outputs": [
    {
     "name": "stdout",
     "output_type": "stream",
     "text": [
      "(3, 4)\n",
      "(1, 4)\n",
      "(3, 4)\n"
     ]
    }
   ],
   "source": [
    "print(x.shape)\n",
    "print(z.shape)\n",
    "print(p.shape)"
   ]
  },
  {
   "cell_type": "markdown",
   "id": "fec8ae1e",
   "metadata": {
    "pycharm": {
     "name": "#%% md\n"
    }
   },
   "source": [
    "Let's look at a more complex example."
   ]
  },
  {
   "cell_type": "code",
   "execution_count": 109,
   "id": "2b1b271d",
   "metadata": {
    "pycharm": {
     "name": "#%%\n"
    }
   },
   "outputs": [],
   "source": [
    "a = np.random.random((3, 4))\n",
    "b = np.random.random((3, 1))\n",
    "c = np.random.random((3, ))"
   ]
  },
  {
   "cell_type": "markdown",
   "id": "972fda59",
   "metadata": {
    "pycharm": {
     "name": "#%% md\n"
    }
   },
   "source": [
    "What is the expected broadcasting behavior for these operations? What do the following operations give us? What are the resulting shapes?"
   ]
  },
  {
   "cell_type": "code",
   "execution_count": 110,
   "id": "ab0e1d5b",
   "metadata": {
    "pycharm": {
     "name": "#%%\n"
    }
   },
   "outputs": [
    {
     "name": "stdout",
     "output_type": "stream",
     "text": [
      "(3, 1)\n",
      "(1, 3)\n",
      "(3, 3)\n",
      "[[0.59697732 0.43475838 0.65938865]\n",
      " [0.43475838 0.27253945 0.49716971]\n",
      " [0.65938865 0.49716971 0.72179998]]\n"
     ]
    }
   ],
   "source": [
    "result1 = b + b.T\n",
    "\n",
    "print(b.shape)\n",
    "print(b.T.shape)\n",
    "print(result1.shape)\n",
    "print(result1)"
   ]
  },
  {
   "cell_type": "code",
   "execution_count": 112,
   "id": "d7e113be",
   "metadata": {
    "scrolled": true,
    "pycharm": {
     "name": "#%%\n"
    }
   },
   "outputs": [],
   "source": [
    "# result2 = a + c\n",
    "#\n",
    "# print(a.shape)\n",
    "# print(c.shape)\n",
    "# print(result2.shape)\n",
    "# print(result2)"
   ]
  },
  {
   "cell_type": "code",
   "execution_count": 113,
   "id": "e91c0c70",
   "metadata": {
    "pycharm": {
     "name": "#%%\n"
    }
   },
   "outputs": [
    {
     "name": "stdout",
     "output_type": "stream",
     "text": [
      "(3, 1)\n",
      "(3,)\n",
      "(3, 3)\n",
      "[[1.1038045  0.9804393  0.66465906]\n",
      " [0.94158556 0.81822037 0.50244013]\n",
      " [1.16621583 1.04285063 0.72707039]]\n"
     ]
    }
   ],
   "source": [
    "result3 = b + c\n",
    "\n",
    "print(b.shape)\n",
    "print(c.shape)\n",
    "print(result3.shape)\n",
    "print(result3)"
   ]
  },
  {
   "cell_type": "markdown",
   "id": "0a845479",
   "metadata": {
    "pycharm": {
     "name": "#%% md\n"
    }
   },
   "source": [
    "### Efficient NumPy Code"
   ]
  },
  {
   "cell_type": "markdown",
   "id": "55c8d74f",
   "metadata": {
    "pycharm": {
     "name": "#%% md\n"
    }
   },
   "source": [
    "When working with numpy arrays, avoid explicit for-loops over indices/axes at all costs. For-loops will dramatically slow down your code (~10-100x)."
   ]
  },
  {
   "cell_type": "markdown",
   "id": "e1285d83",
   "metadata": {
    "pycharm": {
     "name": "#%% md\n"
    }
   },
   "source": [
    "We can time code using the %%timeit magic. Let's compare using explicit for-loop vs. using numpy operations."
   ]
  },
  {
   "cell_type": "code",
   "execution_count": 114,
   "id": "ba02c912",
   "metadata": {
    "pycharm": {
     "name": "#%%\n"
    }
   },
   "outputs": [
    {
     "name": "stdout",
     "output_type": "stream",
     "text": [
      "394 ms ± 37.6 ms per loop (mean ± std. dev. of 7 runs, 1 loop each)\n"
     ]
    }
   ],
   "source": [
    "%%timeit\n",
    "x = np.random.rand(1000, 1000)\n",
    "for i in range(100, 1000):\n",
    "    for j in range(x.shape[1]): \n",
    "        x[i, j] += 5"
   ]
  },
  {
   "cell_type": "code",
   "execution_count": 115,
   "id": "3c96fc83",
   "metadata": {
    "pycharm": {
     "name": "#%%\n"
    }
   },
   "outputs": [
    {
     "name": "stdout",
     "output_type": "stream",
     "text": [
      "11.9 ms ± 1.05 ms per loop (mean ± std. dev. of 7 runs, 100 loops each)\n"
     ]
    }
   ],
   "source": [
    "%%timeit\n",
    "x = np.random.rand(1000, 1000)\n",
    "x[np.arange(100,1000), :] += 5"
   ]
  },
  {
   "cell_type": "markdown",
   "source": [
    "List comprehensions"
   ],
   "metadata": {
    "collapsed": false,
    "pycharm": {
     "name": "#%% md\n"
    }
   }
  },
  {
   "cell_type": "code",
   "execution_count": 117,
   "outputs": [],
   "source": [
    "squares = []\n",
    "for i in range(10):\n",
    "    squares.append(i**2)\n",
    "\n",
    "# Or just coding like this\n",
    "squares = [i**2 for i in range(10)]\n",
    "\n",
    "# can be conditional:\n",
    "odds = [i**2 for i in range(10) if i % 2 ==1]"
   ],
   "metadata": {
    "collapsed": false,
    "pycharm": {
     "name": "#%%\n"
    }
   }
  },
  {
   "cell_type": "markdown",
   "source": [
    "Debugging Tips:\n",
    "- Using interactive shell when you're unsure and small test cases\n",
    "- array.shape, to get the shape of Numpy Array\n",
    "- array.dtype check data type of array\n",
    "- import pdb; pdb.set_trace(), set a breakpoint[1]"
   ],
   "metadata": {
    "collapsed": false,
    "pycharm": {
     "name": "#%% md\n"
    }
   }
  }
 ],
 "metadata": {
  "kernelspec": {
   "display_name": "Python 3 (ipykernel)",
   "language": "python",
   "name": "python3"
  },
  "language_info": {
   "codemirror_mode": {
    "name": "ipython",
    "version": 3
   },
   "file_extension": ".py",
   "mimetype": "text/x-python",
   "name": "python",
   "nbconvert_exporter": "python",
   "pygments_lexer": "ipython3",
   "version": "3.9.7"
  }
 },
 "nbformat": 4,
 "nbformat_minor": 5
}